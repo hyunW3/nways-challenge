{
 "cells": [
  {
   "cell_type": "markdown",
   "metadata": {},
   "source": [
    "# OpenACC Acceleration \n",
    "Let's execute the cell below to display information about the GPUs running on the server by running the `nvidia-smi` command, which ships with the Nvidia GPU Drivers that we will be using. To do this, execute the cell block below by giving it focus (clicking on it with your mouse), and hitting Ctrl-Enter, or pressing the play button in the toolbar above. If all goes well, you should see some output returned below the grey cell."
   ]
  },
  {
   "cell_type": "code",
   "execution_count": 19,
   "metadata": {
    "scrolled": true,
    "tags": []
   },
   "outputs": [
    {
     "name": "stdout",
     "output_type": "stream",
     "text": [
      "Wed May 18 10:55:58 2022       \n",
      "+-----------------------------------------------------------------------------+\n",
      "| NVIDIA-SMI 470.103.01   Driver Version: 470.103.01   CUDA Version: 11.4     |\n",
      "|-------------------------------+----------------------+----------------------+\n",
      "| GPU  Name        Persistence-M| Bus-Id        Disp.A | Volatile Uncorr. ECC |\n",
      "| Fan  Temp  Perf  Pwr:Usage/Cap|         Memory-Usage | GPU-Util  Compute M. |\n",
      "|                               |                      |               MIG M. |\n",
      "|===============================+======================+======================|\n",
      "|   0  NVIDIA A100-SXM...  On   | 00000000:07:00.0 Off |                   On |\n",
      "| N/A   25C    P0    48W / 400W |     20MiB / 81251MiB |     N/A      Default |\n",
      "|                               |                      |              Enabled |\n",
      "+-------------------------------+----------------------+----------------------+\n",
      "\n",
      "+-----------------------------------------------------------------------------+\n",
      "| MIG devices:                                                                |\n",
      "+------------------+----------------------+-----------+-----------------------+\n",
      "| GPU  GI  CI  MIG |         Memory-Usage |        Vol|         Shared        |\n",
      "|      ID  ID  Dev |           BAR1-Usage | SM     Unc| CE  ENC  DEC  OFA  JPG|\n",
      "|                  |                      |        ECC|                       |\n",
      "|==================+======================+===========+=======================|\n",
      "|  0    3   0   0  |      6MiB / 19968MiB | 28      0 |  2   0    1    0    0 |\n",
      "|                  |      0MiB / 32767MiB |           |                       |\n",
      "+------------------+----------------------+-----------+-----------------------+\n",
      "                                                                               \n",
      "+-----------------------------------------------------------------------------+\n",
      "| Processes:                                                                  |\n",
      "|  GPU   GI   CI        PID   Type   Process name                  GPU Memory |\n",
      "|        ID   ID                                                   Usage      |\n",
      "|=============================================================================|\n",
      "|  No running processes found                                                 |\n",
      "+-----------------------------------------------------------------------------+\n"
     ]
    }
   ],
   "source": [
    "!nvidia-smi"
   ]
  },
  {
   "cell_type": "markdown",
   "metadata": {},
   "source": [
    "Since the code will be run on Multicore as well try running the cell below and get details of the nnumber of core and CPU architecure on the system"
   ]
  },
  {
   "cell_type": "code",
   "execution_count": null,
   "metadata": {},
   "outputs": [],
   "source": [
    "!cat /proc/cpuinfo"
   ]
  },
  {
   "cell_type": "markdown",
   "metadata": {},
   "source": [
    "## Copy and Compile the Serial code\n",
    "\n",
    "Before start modifying the serial code, let's make a copy of the serial code and rename it."
   ]
  },
  {
   "cell_type": "code",
   "execution_count": 20,
   "metadata": {},
   "outputs": [],
   "source": [
    "!cp ../source_code/serial/* ../source_code/openacc"
   ]
  },
  {
   "cell_type": "code",
   "execution_count": 21,
   "metadata": {},
   "outputs": [
    {
     "name": "stdout",
     "output_type": "stream",
     "text": [
      "rm -f arraymalloc.o boundary.o cfd.o cfdio.o jacobi.o cfd velocity.dat colourmap.dat cfd.plt core\n",
      "nvc++ -lm -I/opt/nvidia/hpc_sdk/Linux_x86_64/21.3/cuda/11.2/include -L/opt/nvidia/hpc_sdk/Linux_x86_64/21.3/cuda/11.2/lib64 -lnvToolsExt -c arraymalloc.cpp\n",
      "nvc++ -lm -I/opt/nvidia/hpc_sdk/Linux_x86_64/21.3/cuda/11.2/include -L/opt/nvidia/hpc_sdk/Linux_x86_64/21.3/cuda/11.2/lib64 -lnvToolsExt -c boundary.cpp\n",
      "nvc++ -lm -I/opt/nvidia/hpc_sdk/Linux_x86_64/21.3/cuda/11.2/include -L/opt/nvidia/hpc_sdk/Linux_x86_64/21.3/cuda/11.2/lib64 -lnvToolsExt -c cfd.cpp\n",
      "nvc++ -lm -I/opt/nvidia/hpc_sdk/Linux_x86_64/21.3/cuda/11.2/include -L/opt/nvidia/hpc_sdk/Linux_x86_64/21.3/cuda/11.2/lib64 -lnvToolsExt -c cfdio.cpp\n",
      "\u001b[01m\u001b[0m\u001b[01m\"cfdio.cpp\", line 20\u001b[0m: \u001b[01;35mwarning\u001b[0m: variable \u001b[01m\"nvel\"\u001b[0m was declared but never referenced\n",
      "    int nvel, nrgb;\n",
      "        ^\n",
      "\n",
      "\u001b[01m\u001b[0m\u001b[01m\"cfdio.cpp\", line 20\u001b[0m: \u001b[01;35mwarning\u001b[0m: variable \u001b[01m\"nrgb\"\u001b[0m was declared but never referenced\n",
      "    int nvel, nrgb;\n",
      "              ^\n",
      "\n",
      "nvc++ -lm -I/opt/nvidia/hpc_sdk/Linux_x86_64/21.3/cuda/11.2/include -L/opt/nvidia/hpc_sdk/Linux_x86_64/21.3/cuda/11.2/lib64 -lnvToolsExt -c jacobi.cpp\n",
      "nvc++ -lm -I/opt/nvidia/hpc_sdk/Linux_x86_64/21.3/cuda/11.2/include -L/opt/nvidia/hpc_sdk/Linux_x86_64/21.3/cuda/11.2/lib64 -lnvToolsExt -o cfd arraymalloc.o boundary.o cfd.o cfdio.o jacobi.o \n"
     ]
    }
   ],
   "source": [
    "!cd ../source_code/openacc && make clean && make"
   ]
  },
  {
   "cell_type": "markdown",
   "metadata": {},
   "source": [
    "## Run the Serial code"
   ]
  },
  {
   "cell_type": "code",
   "execution_count": 22,
   "metadata": {},
   "outputs": [
    {
     "name": "stdout",
     "output_type": "stream",
     "text": [
      "Scale Factor = 64, iterations = 500\n",
      "Irrotational flow\n",
      "Running CFD on 2048 x 2048 grid in serial\n",
      "\n",
      "Starting main loop...\n",
      "\n",
      "\n",
      "... finished\n",
      "After 500 iterations, the error is 0.00211211\n",
      "Time for 500 iterations was 7.76763 seconds\n",
      "Each iteration took 0.0155353 seconds\n",
      "\n",
      "\n",
      "Writing data files ...\n",
      "... done!\n",
      "\n",
      "Written gnuplot script 'cfd.plt'\n",
      "... finished\n"
     ]
    }
   ],
   "source": [
    "!cd ../source_code/openacc && ./cfd 64 500"
   ]
  },
  {
   "cell_type": "markdown",
   "metadata": {},
   "source": [
    "---\n",
    "\n",
    "# Start adding OpenACC Pragmas"
   ]
  },
  {
   "cell_type": "markdown",
   "metadata": {},
   "source": [
    "Now, you can start modifying the C++ code and the `Makefile`:\n",
    "\n",
    "[cfd code](../source_code/openacc/cfd.cpp) \n",
    "\n",
    "[Makefile](../source_code/openacc/Makefile)\n",
    "\n",
    "Remember to **SAVE** your code after changes, before running below cells.\n",
    "\n",
    "#### Some Hints\n",
    "\n",
    "1) Notice implicit and explicit copy of variables --> Add `-Minfo=accel` flag to `Makefile`.\n",
    "\n",
    "2) Check if there is any data race in your code.( More details on data race is present in the Links and resources section below)"
   ]
  },
  {
   "cell_type": "markdown",
   "metadata": {},
   "source": [
    "## Compile and run OpenACC enabled code\n"
   ]
  },
  {
   "cell_type": "code",
   "execution_count": 23,
   "metadata": {},
   "outputs": [
    {
     "name": "stdout",
     "output_type": "stream",
     "text": [
      "rm -f arraymalloc.o boundary.o cfd.o cfdio.o jacobi.o cfd velocity.dat colourmap.dat cfd.plt core\n",
      "nvc++ -acc -ta=multicore -Minfo=accel -lm -I/opt/nvidia/hpc_sdk/Linux_x86_64/21.3/cuda/11.2/include -L/opt/nvidia/hpc_sdk/Linux_x86_64/21.3/cuda/11.2/lib64 -lnvToolsExt -c arraymalloc.cpp\n",
      "nvc++ -acc -ta=multicore -Minfo=accel -lm -I/opt/nvidia/hpc_sdk/Linux_x86_64/21.3/cuda/11.2/include -L/opt/nvidia/hpc_sdk/Linux_x86_64/21.3/cuda/11.2/lib64 -lnvToolsExt -c boundary.cpp\n",
      "nvc++ -acc -ta=multicore -Minfo=accel -lm -I/opt/nvidia/hpc_sdk/Linux_x86_64/21.3/cuda/11.2/include -L/opt/nvidia/hpc_sdk/Linux_x86_64/21.3/cuda/11.2/lib64 -lnvToolsExt -c cfd.cpp\n",
      "nvc++ -acc -ta=multicore -Minfo=accel -lm -I/opt/nvidia/hpc_sdk/Linux_x86_64/21.3/cuda/11.2/include -L/opt/nvidia/hpc_sdk/Linux_x86_64/21.3/cuda/11.2/lib64 -lnvToolsExt -c cfdio.cpp\n",
      "\u001b[01m\u001b[0m\u001b[01m\"cfdio.cpp\", line 20\u001b[0m: \u001b[01;35mwarning\u001b[0m: variable \u001b[01m\"nvel\"\u001b[0m was declared but never referenced\n",
      "    int nvel, nrgb;\n",
      "        ^\n",
      "\n",
      "\u001b[01m\u001b[0m\u001b[01m\"cfdio.cpp\", line 20\u001b[0m: \u001b[01;35mwarning\u001b[0m: variable \u001b[01m\"nrgb\"\u001b[0m was declared but never referenced\n",
      "    int nvel, nrgb;\n",
      "              ^\n",
      "\n",
      "nvc++ -acc -ta=multicore -Minfo=accel -lm -I/opt/nvidia/hpc_sdk/Linux_x86_64/21.3/cuda/11.2/include -L/opt/nvidia/hpc_sdk/Linux_x86_64/21.3/cuda/11.2/lib64 -lnvToolsExt -c jacobi.cpp\n",
      "nvc++ -acc -ta=multicore -Minfo=accel -lm -I/opt/nvidia/hpc_sdk/Linux_x86_64/21.3/cuda/11.2/include -L/opt/nvidia/hpc_sdk/Linux_x86_64/21.3/cuda/11.2/lib64 -lnvToolsExt -o cfd arraymalloc.o boundary.o cfd.o cfdio.o jacobi.o \n"
     ]
    }
   ],
   "source": [
    "!cd ../source_code/openacc && make clean && make"
   ]
  },
  {
   "cell_type": "markdown",
   "metadata": {},
   "source": [
    "Hint : Add `-Minfo=accel` to the `Makefile` to check that Kernel code indeed has been generated."
   ]
  },
  {
   "cell_type": "markdown",
   "metadata": {},
   "source": [
    "## Profile the OpenACC Code"
   ]
  },
  {
   "cell_type": "code",
   "execution_count": 91,
   "metadata": {},
   "outputs": [
    {
     "name": "stdout",
     "output_type": "stream",
     "text": [
      "rm -f arraymalloc.o boundary.o cfd.o cfdio.o jacobi.o cfd velocity.dat colourmap.dat cfd.plt core\n",
      "nvc++ -acc -ta=tesla:managed,lineinfo -Minfo=accel -lm -I/opt/nvidia/hpc_sdk/Linux_x86_64/21.3/cuda/11.2/include -L/opt/nvidia/hpc_sdk/Linux_x86_64/21.3/cuda/11.2/lib64 -lnvToolsExt -c arraymalloc.cpp\n",
      "nvc++ -acc -ta=tesla:managed,lineinfo -Minfo=accel -lm -I/opt/nvidia/hpc_sdk/Linux_x86_64/21.3/cuda/11.2/include -L/opt/nvidia/hpc_sdk/Linux_x86_64/21.3/cuda/11.2/lib64 -lnvToolsExt -c boundary.cpp\n",
      "nvc++ -acc -ta=tesla:managed,lineinfo -Minfo=accel -lm -I/opt/nvidia/hpc_sdk/Linux_x86_64/21.3/cuda/11.2/include -L/opt/nvidia/hpc_sdk/Linux_x86_64/21.3/cuda/11.2/lib64 -lnvToolsExt -c cfd.cpp\n",
      "nvc++ -acc -ta=tesla:managed,lineinfo -Minfo=accel -lm -I/opt/nvidia/hpc_sdk/Linux_x86_64/21.3/cuda/11.2/include -L/opt/nvidia/hpc_sdk/Linux_x86_64/21.3/cuda/11.2/lib64 -lnvToolsExt -c cfdio.cpp\n",
      "\u001b[01m\u001b[0m\u001b[01m\"cfdio.cpp\", line 20\u001b[0m: \u001b[01;35mwarning\u001b[0m: variable \u001b[01m\"nvel\"\u001b[0m was declared but never referenced\n",
      "    int nvel, nrgb;\n",
      "        ^\n",
      "\n",
      "\u001b[01m\u001b[0m\u001b[01m\"cfdio.cpp\", line 20\u001b[0m: \u001b[01;35mwarning\u001b[0m: variable \u001b[01m\"nrgb\"\u001b[0m was declared but never referenced\n",
      "    int nvel, nrgb;\n",
      "              ^\n",
      "\n",
      "nvc++ -acc -ta=tesla:managed,lineinfo -Minfo=accel -lm -I/opt/nvidia/hpc_sdk/Linux_x86_64/21.3/cuda/11.2/include -L/opt/nvidia/hpc_sdk/Linux_x86_64/21.3/cuda/11.2/lib64 -lnvToolsExt -c jacobi.cpp\n",
      "jacobistep(double *, double *, int, int):\n",
      "     11, Generating copyout(psinew[:(n+2)*(m+2)]) [if not already present]\n",
      "         Generating copyin(psi[:(n+2)*(m+2)]) [if not already present]\n",
      "         Complex loop carried dependence of psi-> prevents parallelization\n",
      "         Loop carried dependence of psinew-> prevents parallelization\n",
      "         Loop carried backward dependence of psinew-> prevents vectorization\n",
      "         Complex loop carried dependence of psinew-> prevents parallelization\n",
      "         Generating Tesla code\n",
      "         11, #pragma acc loop seq\n",
      "         15, #pragma acc loop gang, vector(128) /* blockIdx.x threadIdx.x */\n",
      "jacobistepvort(double *, double *, double *, double *, int, int, double):\n",
      "     31, Generating copyout(psinew[:(n+2)*(m+2)]) [if not already present]\n",
      "         Generating copyin(psi[:(n+2)*(m+2)],zet[:(n+2)*(m+2)]) [if not already present]\n",
      "         Generating copyout(zetnew[:(n+2)*(m+2)]) [if not already present]\n",
      "     33, Generating Tesla code\n",
      "         35, #pragma acc loop gang /* blockIdx.x */\n",
      "         38, #pragma acc loop vector(128) /* threadIdx.x */\n",
      "         45, #pragma acc loop gang /* blockIdx.x */\n",
      "         48, #pragma acc loop vector(128) /* threadIdx.x */\n",
      "     38, Loop is parallelizable\n",
      "     48, Loop is parallelizable\n",
      "nvc++ -acc -ta=tesla:managed,lineinfo -Minfo=accel -lm -I/opt/nvidia/hpc_sdk/Linux_x86_64/21.3/cuda/11.2/include -L/opt/nvidia/hpc_sdk/Linux_x86_64/21.3/cuda/11.2/lib64 -lnvToolsExt -o cfd arraymalloc.o boundary.o cfd.o cfdio.o jacobi.o \n",
      "Warning: LBR backtrace method is not supported on this platform. DWARF backtrace method will be used.\n",
      "WARNING: The command line includes a target application therefore the CPU context-switch scope has been set to process-tree.\n",
      "Collecting data...\n",
      "Scale Factor = 64, iterations = 100\n",
      "Irrotational flow\n",
      "Running CFD on 2048 x 2048 grid in serial\n",
      "\n",
      "Starting main loop...\n",
      "\n",
      "\n",
      "... finished\n",
      "After 100 iterations, the error is 0.00706943\n",
      "Time for 100 iterations was 2.88792 seconds\n",
      "Each iteration took 0.0288792 seconds\n",
      "\n",
      "\n",
      "Writing data files ...\n",
      "... done!\n",
      "\n",
      "Written gnuplot script 'cfd.plt'\n",
      "... finished\n",
      "Processing events...\n",
      "Saving temporary \"/tmp/nsys-report-8860-a89d-163a-b0e4.qdstrm\" file to disk...\n",
      "\n",
      "Creating final output files...\n",
      "Processing [==============================================================100%]\n",
      "Saved report file to \"/tmp/nsys-report-8860-a89d-163a-b0e4.qdrep\"\n",
      "Exporting 85146 events: [=================================================100%]\n",
      "\n",
      "Exported successfully to\n",
      "/tmp/nsys-report-8860-a89d-163a-b0e4.sqlite\n",
      "\n",
      "\n",
      "CUDA API Statistics:\n",
      "\n",
      " Time(%)  Total Time (ns)  Num Calls   Average    Minimum   Maximum          Name        \n",
      " -------  ---------------  ---------  ----------  --------  --------  -------------------\n",
      "    97.8       1142985134        100  11429851.3  10121826  11891785  cuStreamSynchronize\n",
      "     1.7         20189176          1  20189176.0  20189176  20189176  cuMemAllocManaged  \n",
      "     0.4          4435876        100     44358.8     37880     57081  cuLaunchKernel     \n",
      "     0.1           825654          1    825654.0    825654    825654  cuMemAllocHost_v2  \n",
      "     0.0           464770          1    464770.0    464770    464770  cuMemAlloc_v2      \n",
      "     0.0            71625          1     71625.0     71625     71625  cuModuleLoadDataEx \n",
      "     0.0            21984          1     21984.0     21984     21984  cuStreamCreate     \n",
      "\n",
      "\n",
      "\n",
      "CUDA Kernel Statistics:\n",
      "\n",
      " Time(%)  Total Time (ns)  Instances   Average    Minimum   Maximum                       Name                     \n",
      " -------  ---------------  ---------  ----------  --------  --------  ---------------------------------------------\n",
      "   100.0       1142456901        100  11424569.0  10115039  11885919  jacobistep_11_gpu(double*, double*, int, int)\n",
      "\n",
      "\n",
      "\n",
      "CUDA Memory Operation Statistics (by time):\n",
      "\n",
      " Time(%)  Total Time (ns)  Operations  Average  Minimum  Maximum              Operation            \n",
      " -------  ---------------  ----------  -------  -------  -------  ---------------------------------\n",
      "    53.1        392512921       40730   9636.9     3038    67212  [CUDA Unified Memory memcpy HtoD]\n",
      "    46.9        347210629       40202   8636.7     2078    46386  [CUDA Unified Memory memcpy DtoH]\n",
      "\n",
      "\n",
      "\n",
      "CUDA Memory Operation Statistics (by size in KiB):\n",
      "\n",
      "    Total     Operations  Average  Minimum  Maximum               Operation            \n",
      " -----------  ----------  -------  -------  --------  ---------------------------------\n",
      " 6585664.000       40202  163.814    4.000  1020.000  [CUDA Unified Memory memcpy DtoH]\n",
      " 6552640.000       40730  160.880    4.000  1016.000  [CUDA Unified Memory memcpy HtoD]\n",
      "\n",
      "\n",
      "\n",
      "NVTX Push-Pop Range Statistics:\n",
      "\n",
      " Time(%)  Total Time (ns)  Instances    Average      Minimum     Maximum            Range        \n",
      " -------  ---------------  ---------  ------------  ----------  ----------  ---------------------\n",
      "    49.9       2887917955          1  2887917955.0  2887917955  2887917955  Overall_Iteration    \n",
      "    29.6       1714842159        100    17148421.6     3520946    21230335  Switch_Array         \n",
      "    19.9       1152085652        100    11520856.5    10297256    11997043  JacobiStep           \n",
      "     0.3         20045890        100      200458.9         261    19986725  Calculate_Error      \n",
      "     0.1          6920580          1     6920580.0     6920580     6920580  Initialization       \n",
      "     0.1          6305881          1     6305881.0     6305881     6305881  Compute_Normalization\n",
      "     0.0            15084          1       15084.0       15084       15084  Boundary_PSI         \n",
      "\n",
      "Report file moved to \"/home/pfbhqx4d/workspace-nways-challenge/C/source_code/openacc/minicfdopenacc_profile.qdrep\"\n",
      "Report file moved to \"/home/pfbhqx4d/workspace-nways-challenge/C/source_code/openacc/minicfdopenacc_profile.sqlite\"\n",
      "\n"
     ]
    }
   ],
   "source": [
    "!cd ../source_code/openacc && make clean && make \n",
    "!cd ../source_code/openacc && nsys profile -t nvtx,openacc,cuda --stats=true --force-overwrite true -o minicfdopenacc_profile ./cfd 64 100#500\n",
    "# 0.0288585     copyin,copyout  #pragma acc parallel loop num_workers(m) , loop worker"
   ]
  },
  {
   "cell_type": "markdown",
   "metadata": {},
   "source": [
    "You can examine the output on the terminal or you can download the file and view the timeline by opening the output with the NVIDIA Nsight Systems."
   ]
  },
  {
   "cell_type": "markdown",
   "metadata": {},
   "source": [
    "Download and save the profiler report file by holding down <mark>Shift</mark> and <mark>Right-Clicking</mark> [Here](../source_code/openacc/minicfdopenacc_profile.qdrep).\n",
    "\n",
    "## Validating the Output\n",
    "\n",
    "Make sure the error value printed as output matches that of the serial code"
   ]
  },
  {
   "cell_type": "markdown",
   "metadata": {},
   "source": [
    "# Recommendations for adding OpenACC Pragmas\n",
    "\n",
    "After finding the hotspot function take an incremental approach to add pargmas. \n",
    "\n",
    "1) Ignore the initialization, finalization and I/O functions\n",
    "\n",
    "2) Take an incremental approach by adding pragmas one at a time\n",
    "\n",
    "3) Unified Memory provides a good start point where you need not worry about the data transfers (`–ta=tesla:managed`)\n",
    "\n",
    "4) Cross check the output after incremental changes to check algorithmic scalability\n",
    "\n",
    "5) Move on to using data clauses for better performance \n",
    "\n",
    "6) Start with a small problem size that reduces the execution time. \n",
    "\n",
    "\n",
    "**General tip:** Be aware of *Data Race* situation in which at least two threads access a shared variable at the same time. At least on thread tries to modify the variable. If data race happened, an incorrect result will be returned. So, make sure to validate your output against the serial version."
   ]
  },
  {
   "cell_type": "markdown",
   "metadata": {},
   "source": [
    "# Links and Resources\n",
    "\n",
    "[OpenACC API Guide](https://www.openacc.org/sites/default/files/inline-files/OpenACC%20API%202.6%20Reference%20Guide.pdf)\n",
    "\n",
    "[NVIDIA Nsight System](https://docs.nvidia.com/nsight-systems/)\n",
    "\n",
    "[CUDA Toolkit Download](https://developer.nvidia.com/cuda-downloads)\n",
    "\n",
    "**NOTE**: To be able to see the Nsight System profiler output, please download Nsight System latest version from [here](https://developer.nvidia.com/nsight-systems).\n",
    "\n",
    "Don't forget to check out additional [OpenACC Resources](https://www.openacc.org/resources) and join our [OpenACC Slack Channel](https://www.openacc.org/community#slack) to share your experience and get more help from the community.\n",
    "\n",
    "--- \n",
    "\n"
   ]
  },
  {
   "cell_type": "markdown",
   "metadata": {},
   "source": [
    "## Licensing \n",
    "\n",
    "This material is released by OpenACC-Standard.org, in collaboration with NVIDIA Corporation, under the Creative Commons Attribution 4.0 International (CC BY 4.0)."
   ]
  }
 ],
 "metadata": {
  "anaconda-cloud": {},
  "kernelspec": {
   "display_name": "Python 3 (ipykernel)",
   "language": "python",
   "name": "python3"
  },
  "language_info": {
   "codemirror_mode": {
    "name": "ipython",
    "version": 3
   },
   "file_extension": ".py",
   "mimetype": "text/x-python",
   "name": "python",
   "nbconvert_exporter": "python",
   "pygments_lexer": "ipython3",
   "version": "3.8.10"
  }
 },
 "nbformat": 4,
 "nbformat_minor": 4
}
